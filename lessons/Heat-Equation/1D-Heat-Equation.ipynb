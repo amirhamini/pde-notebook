{
 "cells": [
  {
   "cell_type": "markdown",
   "metadata": {},
   "source": [
    "$ {\\large \\text{1D Heat equation with Dirichlet boundary condition:}}$\n",
    "\n",
    "\n",
    "\n",
    "${\\large \\hspace{10mm} \\text{PDE:} \\hspace{10mm} \\begin{equation} u_t = \\alpha u_{xx} \\quad \\text{for} \\quad 0 \\leq x \\leq L \\quad\\text{and}\\quad 0 \\leq t \\leq T \\end{equation} }$\n",
    "\n",
    "${\\large \\hspace{10mm} \\text{BCs:} \\hspace{11mm} \\begin{equation} u(t,0)=0, \\quad\\text{and}\\quad u(t,0)=0 \\end{equation} }$\n",
    "\n",
    "${\\large \\hspace{10mm} \\text{IC:} \\hspace{15mm} \\begin{equation} u(0,x)=f(x) \\end{equation} }$\n"
   ]
  },
  {
   "cell_type": "markdown",
   "metadata": {},
   "source": [
    "$ {\\large \\text{Example's Informatio:}}$\n",
    "\n",
    "${\\large \\hspace{10mm}\\begin{equation}L=1\\end{equation} }$\n",
    "\n",
    "${\\large \\hspace{10mm}\\begin{equation}u(0,t)=f(x)=\\sin(2\\pi x)+0.1\\sin(20\\pi x)\\end{equation} }$"
   ]
  },
  {
   "cell_type": "markdown",
   "metadata": {},
   "source": [
    "${\\large \\text{Analytical solution using separation of variables method:} }$ \n",
    "\n",
    "$\n",
    "{\\large \\hspace{10mm}\n",
    "\\begin{equation}\n",
    "u(x,t)=e^{−4\\pi^2t} \\sin(2\\pi x) + 0.1e^{−20^2\\pi^2t}\\sin(20\\pi x)\n",
    "\\end{equation}\n",
    "}\n",
    "$"
   ]
  },
  {
   "cell_type": "markdown",
   "metadata": {},
   "source": [
    "$ {\\large \\texttt{Code for plotting the IC:} }$"
   ]
  },
  {
   "cell_type": "code",
   "execution_count": 12,
   "metadata": {
    "collapsed": false
   },
   "outputs": [
    {
     "data": {
      "image/png": "[encoded data removed]",
      "text/plain": [
       "<matplotlib.figure.Figure at 0x1061cbb90>"
      ]
     },
     "metadata": {},
     "output_type": "display_data"
    }
   ],
   "source": [
    "import numpy as np\n",
    "import matplotlib\n",
    "import matplotlib.pyplot as plt\n",
    "\n",
    "# Plotting Jazz\n",
    "%matplotlib inline\n",
    "matplotlib.rc('xtick', labelsize=20) \n",
    "matplotlib.rc('ytick', labelsize=20) \n",
    "font = {'family' : 'normal',\n",
    "        'weight' : 'normal',\n",
    "        'size'   : 22}\n",
    "matplotlib.rc('font', **font)\n",
    "\n",
    "# Defining x\n",
    "L = 1\n",
    "nx = 100\n",
    "x = np.linspace(0, L, nx + 1)\n",
    "\n",
    "# Creating u(0, t) as u0\n",
    "u0 = np.sin(2 * np.pi * x) + 0.1 * np.sin( 20 * np.pi * x)\n",
    "\n",
    "# Plot the IC\n",
    "fig01 = plt.figure(1, figsize=(10, 5), dpi=90)\n",
    "ax = plt.axes(xlim=(0, L), ylim=(min(u0), max(u0)))\n",
    "ax.plot(x, u0)\n",
    "\n",
    "ax.set_title(\"Initial Condtion\", fontsize=30, y=1.01)\n",
    "ax.set_xlabel('$x$', fontsize=30)\n",
    "ax.set_ylabel('$u(0,t)$', fontsize=30)\n",
    "\n",
    "plt.show()"
   ]
  },
  {
   "cell_type": "markdown",
   "metadata": {},
   "source": [
    "${\\large \\text{Numerical method} \\rightarrow  \\text{Forward Euler:}}$\n",
    "\n",
    "${\\large \\hspace{10mm} \\text {1. First order forward difference in time.}}$\n",
    "\n",
    "${\\large \\hspace{10mm} \\text {2. Second order central difference in space.}}$\n",
    "\n",
    "$$\n",
    "{\\large\n",
    "\\frac{u^{n+1}_i-u^{n}_i}{\\Delta t} = \\alpha\\frac{u^{n}_{i+1}-2u^{n}_{i+}+u^{n}_{i-1}}{\\Delta x ^2}\n",
    "}\n",
    "$$\n",
    "${\\large \\text{which builds $u^{n+1}_i$ as following:}}$\n",
    "$$\n",
    "{\\large\n",
    "u^{n+1}_i= u^{n}_i + C\\big(u^{n}_{i+1}-2u^{n}_{i+}+u^{n}_{i-1}\\big)\\quad \\text{with} \\quad C=\\frac{\\alpha \\Delta t}{\\Delta x ^2} \n",
    "}\n",
    "$$"
   ]
  },
  {
   "cell_type": "markdown",
   "metadata": {},
   "source": [
    "${\\large \\texttt{Code to solve the PDE:}}$"
   ]
  },
  {
   "cell_type": "code",
   "execution_count": 13,
   "metadata": {
    "collapsed": false
   },
   "outputs": [
    {
     "name": "stdout",
     "output_type": "stream",
     "text": [
      "T, dx, dt, C =  700.0, 0.010, 0.350, 0.444\n"
     ]
    }
   ],
   "source": [
    "# Spatial mesh\n",
    "L = 1\n",
    "Nx = 100\n",
    "x = np.linspace(0, L, Nx + 1)\n",
    "dx = x[1] - x[0]\n",
    "\n",
    "#  Thermal diffusivity of Gold = 1.27 * 10 ** -4\n",
    "alpha = 1.27 * 10 ** -4\n",
    "#  Thermal diffusivity of Iron = 2.3 * 10  ** -5\n",
    "# alpha = 2.3 * 10 ** -5\n",
    "\n",
    "# Temporal mesh\n",
    "T = 700\n",
    "Nt = 2000\n",
    "t = np.linspace(0, T, Nt+1)    # mesh points in time\n",
    "dt = t[1] - t[0]\n",
    "C = alpha * dt / dx**2\n",
    "\n",
    "print \"T, dx, dt, C =  %.1f, %.3f, %.3f, %.3f\" % (T, dx, dt, C)\n",
    "\n",
    "# IC \n",
    "u = np.sin(2 * np.pi * x) + 0.1 * np.sin(20 * np.pi * x)\n",
    "\n",
    "u_sol = []\n",
    "for n in range(Nt):\n",
    "    un = u.copy()\n",
    "    u_sol.append(un)\n",
    "    # Solving the problem everywhere except at the boundaries\n",
    "    for i in range(1, Nx):\n",
    "        u[i] = un[i] + C * (un[i + 1] - 2 * un[i] + un[i - 1])\n",
    "    # Adding the boundary values\n",
    "    u[0] = 0\n",
    "    u[Nx] = 0"
   ]
  },
  {
   "cell_type": "markdown",
   "metadata": {},
   "source": [
    "${\\large \\texttt {Code for Downsampling the results for plotting reasons:} }$"
   ]
  },
  {
   "cell_type": "code",
   "execution_count": 14,
   "metadata": {
    "collapsed": false
   },
   "outputs": [],
   "source": [
    "# spatial downsampling\n",
    "spatial_downsampling_amount = 1 # not actually done since it makes things look very coarse\n",
    "x_d = x[::spatial_downsampling_amount]\n",
    "u_sol_d = [u_sol_i[::spatial_downsampling_amount] for u_sol_i in u_sol]\n",
    "\n",
    "# temporal downsampling\n",
    "temporal_downsampling_threshold = 0.01 # lower number means more points (less downsampling)\n",
    "\n",
    "u_sol_DS = [u_sol_d[0]]\n",
    "# timestamps of picked solution arrays these can be overlaid on the plot to show at what point we are\n",
    "times = [0]\n",
    "for time, sol_array in enumerate(u_sol_d):\n",
    "    if np.sum((sol_array - u_sol_DS[-1])**2) > temporal_downsampling_threshold:\n",
    "        u_sol_DS.append(sol_array)\n",
    "        times.append(time)"
   ]
  },
  {
   "cell_type": "markdown",
   "metadata": {},
   "source": [
    "${\\large \\text{Analytical solution:} }$ \n",
    "\n",
    "$$\n",
    "{\\large\n",
    "\\begin{equation}\n",
    "u(x,t)=e^{−4\\pi^2t} \\sin(2\\pi x) + 0.1e^{−20^2\\pi^2t}\\sin(20\\pi x)\n",
    "\\end{equation}\n",
    "}\n",
    "$$\n",
    "\n",
    "${\\large \\texttt {Code for generating the analytical solution:} }$"
   ]
  },
  {
   "cell_type": "code",
   "execution_count": null,
   "metadata": {
    "collapsed": false
   },
   "outputs": [],
   "source": [
    "# Spatial mesh\n",
    "L = 1\n",
    "Nx = 100\n",
    "x = np.linspace(0, L, Nx + 1)\n",
    "\n",
    "# Temporal mesh\n",
    "T = 700\n",
    "Nt = 2000\n",
    "t = np.linspace(0, T, Nt+1)    # mesh points in time\n",
    "dt = t[1] - t[0]\n",
    "\n",
    "#  Thermal diffusivity of Gold = 1.27 * 10 ** -4\n",
    "alpha = 1.27 * 10 ** -4\n",
    "\n",
    "# IC \n",
    "u = np.sin(2 * np.pi * x) + 0.1 * np.sin(20 * np.pi * x)\n",
    "\n",
    "u_a = []  # Analytical Solution\n",
    "\n",
    "for n in times:\n",
    "    t = n * dt\n",
    "    un = u.copy()\n",
    "    u_a.append(un)\n",
    "    u = np.exp(-alpha * (2 * np.pi) ** 2 * t) *  np.sin(2 * np.pi * x) + 0.1 * np.exp(-alpha * (20 * np.pi) ** 2 * t) * np.sin(20 * np.pi * x) "
   ]
  },
  {
   "cell_type": "markdown",
   "metadata": {},
   "source": [
    "${\\large \\texttt{Code for animating the results:} }$"
   ]
  },
  {
   "cell_type": "code",
   "execution_count": null,
   "metadata": {
    "collapsed": false
   },
   "outputs": [],
   "source": [
    "from JSAnimation import IPython_display\n",
    "from matplotlib import animation\n",
    "\n",
    "fig02 = plt.figure(1, figsize=(10, 5), dpi=90)\n",
    "ax = plt.axes(xlim=(0, L), ylim=(min(u_sol[0]), max(u_sol[0])) )\n",
    "ax.set_title(\"\", fontsize=30, y=1.05)\n",
    "ax.set_xlabel('$x$', fontsize=22)\n",
    "ax.set_ylabel('$u(x,t)$', fontsize=22)\n",
    "ax.grid()\n",
    "time_text = ax.text(0.35, 1.05, '', transform=ax.transAxes)\n",
    "\n",
    "colors = ['r', 'b']\n",
    "numLine = 2\n",
    "lines = [ax.plot([], [], lw=2, color=colors[j])[0] for j in range(numLine)]\n",
    "\n",
    "def init():\n",
    "    for line in lines:\n",
    "        line.set_data([],[])\n",
    "    time_text.set_text('')\n",
    "    return lines, time_text\n",
    "\n",
    "def animate(i):\n",
    "    lines[0].set_data(x, u_sol_DS[i])\n",
    "    lines[1].set_data(x, u_a[i])\n",
    "    time_text.set_text('time = %.1f [sec]' % (times[i] * dt) )\n",
    "    return lines, time_text\n",
    "\n",
    "animation.FuncAnimation(fig02, animate, init_func=init,\n",
    "                        frames=len(u_sol_DS), interval=50, blit=True)"
   ]
  },
  {
   "cell_type": "code",
   "execution_count": null,
   "metadata": {
    "collapsed": true
   },
   "outputs": [],
   "source": []
  }
 ],
 "metadata": {
  "kernelspec": {
   "display_name": "Python 2",
   "language": "python",
   "name": "python2"
  },
  "language_info": {
   "codemirror_mode": {
    "name": "ipython",
    "version": 2
   },
   "file_extension": ".py",
   "mimetype": "text/x-python",
   "name": "python",
   "nbconvert_exporter": "python",
   "pygments_lexer": "ipython2",
   "version": "2.7.10"
  }
 },
 "nbformat": 4,
 "nbformat_minor": 0
}
